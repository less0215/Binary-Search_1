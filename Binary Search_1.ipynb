{
 "cells": [
  {
   "cell_type": "code",
   "execution_count": 3,
   "metadata": {},
   "outputs": [
    {
     "name": "stdout",
     "output_type": "stream",
     "text": [
      "127\n"
     ]
    }
   ],
   "source": [
    "### 입력\n",
    "# 지방의 수\n",
    "n = int(input())\n",
    "# 지방이 요청한 금액. 효율성을 위해 공백으로 입력 값을 받는다.\n",
    "# ex) 120 110 140 150\n",
    "requests = list(map(int, input().split()))\n",
    "# 갖고 있는 예산을 작성한다.\n",
    "budget = int(input())\n",
    "\n",
    "### \"각 지방이 요청한 금액에 대해, 일정 상한선(upper_bound)을 적용했을 때 필요한 총 예산을 계산하는 함수\"\n",
    "# 'upper_bound: int' 정수로 인자 값을 입력하라고 명시한 부분,\n",
    "# '-> int' 반환 값이 정수여야 한다고 명시한 부분\n",
    "def calculate_needed_budget(upper_bound: int) -> int:\n",
    "    # 상한액이 upper_bound 일 때 필요한 예산을 계산하는 함수입니다.\n",
    "    needed_budget = 0\n",
    "    for request in requests:\n",
    "        # 요청 금액과 요청 금액 중 최대값(upper_bound) 중 작은 값을 택해서 needed_budget에 넣는 코드\n",
    "        needed_budget += min(request, upper_bound)\n",
    "    \n",
    "    return needed_budget\n",
    "\n",
    "# 이분 탐색을 수행하는 메인 로직\n",
    "low = 0\n",
    "high = max(requests)\n",
    "# \"아직 적절한 상한액을 찾지 못했으며, 이후 코드에서 이 값을 찾아 업데이트할 것\"이라는 의미를 가집니다.\n",
    "good_upper_bound = -1\n",
    "\n",
    "while low <= high:\n",
    "    mid = (low + high) // 2\n",
    "    \n",
    "    if calculate_needed_budget(mid) <= budget:\n",
    "        good_upper_bound = mid\n",
    "        low = mid + 1\n",
    "    else:\n",
    "        high = mid - 1\n",
    "\n",
    "answer = -1\n",
    "for request in requests:\n",
    "    given = min(request, good_upper_bound)\n",
    "    answer = max(answer, given)\n",
    "\n",
    "print(answer)"
   ]
  }
 ],
 "metadata": {
  "kernelspec": {
   "display_name": "Python 3",
   "language": "python",
   "name": "python3"
  },
  "language_info": {
   "codemirror_mode": {
    "name": "ipython",
    "version": 3
   },
   "file_extension": ".py",
   "mimetype": "text/x-python",
   "name": "python",
   "nbconvert_exporter": "python",
   "pygments_lexer": "ipython3",
   "version": "3.12.5"
  }
 },
 "nbformat": 4,
 "nbformat_minor": 2
}
